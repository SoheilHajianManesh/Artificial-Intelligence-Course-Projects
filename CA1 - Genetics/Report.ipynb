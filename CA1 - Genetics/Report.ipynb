{
 "cells": [
  {
   "cell_type": "markdown",
   "id": "ad8ad37b",
   "metadata": {},
   "source": [
    "# Soheil HajianManesh"
   ]
  },
  {
   "cell_type": "markdown",
   "id": "0814f9d0",
   "metadata": {},
   "source": [
    "## Artificial Intelligence - CA1 - Genetic Algorithm"
   ]
  },
  {
   "cell_type": "markdown",
   "id": "dcb4a42e",
   "metadata": {},
   "source": [
    "### In this computer assignment we must solve curve fitting problem using genetic algorithm.\n",
    "\n",
    "At the end we must find best possible coefficients as an answer.\n",
    "I consider each coefficient as a gene.\n",
    "Each chromosome has n gene that n is equal to the number of coefficients (degree+1).\n",
    "In the chrosomes coefficients are arranged according to their position in the equation(gene[0] coefficient of the largest term)."
   ]
  },
  {
   "cell_type": "code",
   "execution_count": 1,
   "id": "d5c7eaaf",
   "metadata": {},
   "outputs": [],
   "source": [
    "import random\n",
    "import copy\n",
    "from dataclasses import dataclass"
   ]
  },
  {
   "cell_type": "markdown",
   "id": "8d2b8a79",
   "metadata": {},
   "source": [
    "`Consts` class consist of const parameter in my algorithm :\n",
    "\n",
    "- `maxGenerationNum`:Maximum number of generation that we can generate in our algorithm to reach best solution.\n",
    "- `PopulationNumber`:The total number of all chromosome (population size).\n",
    "- `crossOverP`:The probability of crossover performed on two chromosome or they directly go to next generation.\n",
    "- `mutationP`:The probability of mutation performed on a chromosome or chromosome go to next generation without changing.\n",
    "- `directTransferPerc`:How many percentages of best chromosomes should be transferred directly to the next generation.\n",
    "- `ChangePilotPerc`:The probability that specifies a gene must be change or no (in second cross over algorithm)"
   ]
  },
  {
   "cell_type": "code",
   "execution_count": 98,
   "id": "679a12a3",
   "metadata": {},
   "outputs": [],
   "source": [
    "@dataclass\n",
    "class Consts:\n",
    "    maxGenerationNum: int\n",
    "    PopulationNumber: int\n",
    "    crossOverP: float\n",
    "    mutationP: float\n",
    "    directTransferPerc: float\n",
    "    ChangePilotPerc: float\n",
    "Gene= int\n",
    "Chromosome=list[Gene]\n",
    "Population=list[Chromosome]"
   ]
  },
  {
   "cell_type": "code",
   "execution_count": 3,
   "id": "3e74a5e6",
   "metadata": {},
   "outputs": [],
   "source": [
    "class Point:\n",
    "    x: int\n",
    "    y: int\n",
    "    def __init__(self,x: int,y: int):\n",
    "        self.x=x\n",
    "        self.y=y"
   ]
  },
  {
   "cell_type": "markdown",
   "id": "8fa6f1bf",
   "metadata": {},
   "source": [
    "`Input` class consist input fields such as:\n",
    "- `degree`: The degree of the equation .\n",
    "- `minCoef`: The minimum coefficient that the equation can have.\n",
    "- `maxCoef`: The maximum coefficient that the equation can have\n",
    "- `points` : A number of points are given as input.(Their number is arbitrary)"
   ]
  },
  {
   "cell_type": "code",
   "execution_count": 4,
   "id": "a96c7b03",
   "metadata": {},
   "outputs": [],
   "source": [
    "@dataclass \n",
    "class Input:\n",
    "    degree: int\n",
    "    minCoef: int\n",
    "    maxCoef: int \n",
    "    points: list[Point]"
   ]
  },
  {
   "cell_type": "markdown",
   "id": "c2166e5e",
   "metadata": {},
   "source": [
    "## CurveFitter Class:\n",
    "### - `createFirstPopulation`:\n",
    "In this method create first population with size=`popSize` and each gene get random   number between `minCoef` and `maxCoef`\n",
    "\n",
    "\n",
    "### - `calcFitness`:\n",
    "I defined fitness function as fallows:\n",
    "$$ \\frac{1}{1 + \\sum_{i=1}^{len(points)}|y^{'}(x_{i}) - y(x_{i})|}$$\n",
    "\n",
    "for every chromosome loop over all points and define yprim - y and then calculate fitness\n",
    "- Fitness is between 0 and 1.\n",
    "- The closer the chromosome to right answer , the higher the fitness and it is closer to 1. \n",
    "- if one chromosome is contain right coefficients then $${\\sum_{i=1}^{len(points)}|y^{'}(x_{i}) - y(x_{i})|}=0$$ and fitness become 1.\n",
    "\n",
    "\n",
    "### - `createCarryPop`:\n",
    "This method return `directTransferPerc*PopulationNumber` of first best chromosome named carrry population to directly transfer to the next generation.\n",
    "\n",
    "\n",
    "### - `createMatingPool`:\n",
    "In this method I create mating pool using `Rank-Based Selection`, Assign a rank to each chromosome in descending order;I mean \n",
    "for example first cromosome that is also the best chromosome give the biggest rang and the last chromosome gets 1 as rank.\n",
    "then make new poplation that every chromosome have n member in new population `(n=rank)`,At the end shuffle new population and return first `PopulationNumber` of it as mating pool.\n",
    "\n",
    "### - `createCrossOverPool`:\n",
    "To create modified population if random number is under crossOverP we cross over two chromosome else we transfer two chromosome directly to modified population.for combine two parent chromosome and make two new child I use two algorithm that can use any of them you want.\n",
    "   #### - `crossOverAlgorithm1`:\n",
    "using `1-point crossover` algorithm .\n",
    "#### - `crossOverAlgorithm2`: \n",
    "using `n-random-point crossover` algorithm .In this algorithm I loop over one parent and for each gene copy parent1 in child1 and parent2 in child2 until random number become less than `ChangePilotPerc`,then change the order and copy until random number become less than crossOverP again and change the order again.Do this until reach the end of the Chromosome.\n",
    "\n",
    "### - `createMutationPool`:\n",
    "In this method my algorithm for mutation is to for each chromosome if random number is less than mutationP then randomly choose one gene in chromosome and change its value to a random integar between minCoef and maxCoef.\n",
    "\n",
    "### - `findCurve`:\n",
    "At last this method does the process of finding `curve`:\n",
    "\n",
    "- After initial first population every time in the cycle do these steps:\n",
    "    - Shuffle population\n",
    "    - Calculate fitness for each chromosome\n",
    "    - If a fitness equal to 1 break the cycle and return answer\n",
    "    - Sort population based on fitnesses\n",
    "    - Specify carry population that directly transfer to next generation\n",
    "    - Create mating pool using sorted population\n",
    "    - Cross over mating pool\n",
    "    - Mutation on crossOverPool\n",
    "    - Combine mutationPool & carry population\n",
    "    - Try this cycle `maxGenerationNum` time."
   ]
  },
  {
   "cell_type": "code",
   "execution_count": 117,
   "id": "90e74701",
   "metadata": {},
   "outputs": [],
   "source": [
    "class CurveFitter:\n",
    "    \n",
    "    inputs:Input\n",
    "        \n",
    "        \n",
    "    def __init__(self, inputs:Input):\n",
    "        inputs=inputs\n",
    "\n",
    "        \n",
    "    def createFirstPopulation(self,popSize)->Population:\n",
    "        population: Population=[None]*popSize\n",
    "        for i in range(popSize):\n",
    "            chromosome: Chromosome=[None]*(inputs.degree+1)\n",
    "            chromosome[0::1]=[random.randint(inputs.minCoef,inputs.maxCoef) for _ in range(inputs.degree+1)]\n",
    "            population[i]=chromosome\n",
    "        return population\n",
    "    \n",
    "    \n",
    "    def calcFitness(self,chromosome: Chromosome)->float:\n",
    "        diffSummation=0\n",
    "        for point in inputs.points:\n",
    "            power=inputs.degree\n",
    "            yprim=0\n",
    "            for i in range(len(chromosome)):\n",
    "                yprim+=chromosome[i]*(pow(point.x,power))\n",
    "                power-=1\n",
    "            diffSummation+=abs(yprim-point.y)\n",
    "        fitness=1/(1+diffSummation)\n",
    "        return fitness\n",
    "    \n",
    "    \n",
    "    def createCarryPop(self,sortedPop: Population,size: int)->Population:\n",
    "        carryChromosomes: Population = [None]*size\n",
    "        for i in range(size):\n",
    "            carryChromosomes[i]=sortedPop[i]\n",
    "        return carryChromosomes\n",
    "    \n",
    "    \n",
    "    def createMatingPool(self,sortedPop: Population,popSize: int)-> Population:\n",
    "        ranks = list(reversed(range(1,popSize+1)))\n",
    "        matingPool: Population = []\n",
    "        for i in range(popSize):\n",
    "            for _ in range(ranks[i]):\n",
    "                matingPool.append(sortedPop[i])\n",
    "        random.shuffle(matingPool)\n",
    "        return matingPool[0:popSize]\n",
    "    \n",
    "    ###### Start Cross Over ######\n",
    "\n",
    "    def createCrossOverPool(self,crossOverP: float,matingPool: Population,fitnesses: list[float],ChangePilotPerc: float)->Population:\n",
    "        crossPool:Population=[]\n",
    "        for i in range(0,len(matingPool),2):\n",
    "            rand=random.random()\n",
    "            if rand<crossOverP:\n",
    "#                 children=self.crossOverAlgorithm1(matingPool[i],matingPool[i+1])\n",
    "                children=self.crossOverAlgorithm2(matingPool[i],matingPool[i+1],ChangePilotPerc)\n",
    "                crossPool.extend(children)\n",
    "            else:\n",
    "                crossPool.append(matingPool[i])\n",
    "                crossPool.append(matingPool[i+1])\n",
    "        return crossPool\n",
    "    def crossOverAlgorithm1(self,parent1: Chromosome,parent2: Chromosome)->Population:\n",
    "        children : Population = []\n",
    "        crossIndex=random.randint(0,inputs.degree)\n",
    "        children.append(parent1[0:crossIndex]+parent2[crossIndex:])\n",
    "        children.append(parent2[0:crossIndex]+parent1[crossIndex:])\n",
    "        return children\n",
    "\n",
    "    def crossOverAlgorithm2(self,parent1: Chromosome,parent2: Chromosome,ChangePilotPerc: float)->Population:\n",
    "        children : Population = []\n",
    "        child1: Chromosome = [None] * len(parent1)\n",
    "        child2: Chromosome = [None] * len(parent2)\n",
    "        flag=1\n",
    "        for i in range(len(parent1)):\n",
    "            if random.random()<ChangePilotPerc:\n",
    "                flag=flag*(-1)\n",
    "            if flag==1:\n",
    "                child1[i]=parent1[i]\n",
    "                child2[i]=parent2[i]\n",
    "            else:\n",
    "                child1[i]=parent2[i]\n",
    "                child2[i]=parent1[i]\n",
    "        children.append(child1)\n",
    "        children.append(child2)\n",
    "        return children\n",
    "    \n",
    "    ###### END Cross Over ######\n",
    "    ###### START Mutation ######\n",
    "    \n",
    "    def createMutationPool(self,mutationP: float,crossOverPool: Population)->Population:\n",
    "        mutationPool:Population = copy.deepcopy(crossOverPool)\n",
    "        for chromosome in mutationPool:\n",
    "            if random.random()<mutationP:\n",
    "                idx=random.randint(0,len(chromosome)-1)\n",
    "                chromosome[idx]=random.randint(inputs.minCoef,inputs.maxCoef)\n",
    "        return mutationPool\n",
    "    \n",
    "    ###### END Mutation ######\n",
    "    \n",
    "    def findCurve(self,consts:Consts)->Chromosome:\n",
    "        population=self.createFirstPopulation(consts.PopulationNumber)\n",
    "        generation=0\n",
    "        for i in range(consts.maxGenerationNum):\n",
    "            generation+=1\n",
    "            random.shuffle(population)\n",
    "            fitnesses=[self.calcFitness(chromo) for chromo in population]\n",
    "            if(1 in fitnesses):\n",
    "                return population[fitnesses.index(1)]\n",
    "            sortedZip=sorted(zip(fitnesses,population),reverse=True,key=lambda pair: pair[0])\n",
    "            sortedPopulation=[item[1] for item in sortedZip]\n",
    "            directCarryCount=int(consts.PopulationNumber*consts.directTransferPerc)\n",
    "            carryPopulation=self.createCarryPop(sortedPopulation,directCarryCount)\n",
    "            matingPool=self.createMatingPool(sortedPopulation,consts.PopulationNumber)\n",
    "            crossOverPool=self.createCrossOverPool(consts.crossOverP,matingPool,fitnesses,consts.ChangePilotPerc)\n",
    "            mutationPool=self.createMutationPool(consts.mutationP,crossOverPool)\n",
    "            population=mutationPool[0:(consts.PopulationNumber-directCarryCount)]\n",
    "            population.extend(carryPopulation)\n",
    "        return population[0]        \n",
    "    "
   ]
  },
  {
   "cell_type": "markdown",
   "id": "4dac9700",
   "metadata": {},
   "source": [
    "# TestCase1 example "
   ]
  },
  {
   "cell_type": "code",
   "execution_count": 118,
   "id": "6dfaeda8",
   "metadata": {
    "scrolled": true
   },
   "outputs": [
    {
     "data": {
      "text/plain": [
       "[1, -5, 3, 1]"
      ]
     },
     "execution_count": 118,
     "metadata": {},
     "output_type": "execute_result"
    }
   ],
   "source": [
    "consts = Consts(\n",
    "    maxGenerationNum = 2000,\n",
    "    PopulationNumber = 400,\n",
    "    crossOverP = 0.75,\n",
    "    mutationP = 0.4,\n",
    "    directTransferPerc = 0.1,\n",
    "    ChangePilotPerc=0.2\n",
    ")\n",
    "inputs= Input(\n",
    "    degree = 3,\n",
    "    minCoef = -9,\n",
    "    maxCoef = 9,\n",
    "    points = [Point(0,1),Point(1,0),Point(2,-5),Point(-1,-8)]\n",
    ")\n",
    "curveFitter=CurveFitter(inputs)\n",
    "resultCurve=curveFitter.findCurve(consts)\n",
    "resultCurve"
   ]
  },
  {
   "cell_type": "markdown",
   "id": "e9219278",
   "metadata": {},
   "source": [
    "# TestCase2 example "
   ]
  },
  {
   "cell_type": "code",
   "execution_count": 119,
   "id": "d8622163",
   "metadata": {},
   "outputs": [
    {
     "data": {
      "text/plain": [
       "[3, 2, -4, 5, -2, 7, -1]"
      ]
     },
     "execution_count": 119,
     "metadata": {},
     "output_type": "execute_result"
    }
   ],
   "source": [
    "consts = Consts(\n",
    "    maxGenerationNum = 2000,\n",
    "    PopulationNumber = 400,\n",
    "    crossOverP = 0.75,\n",
    "    mutationP = 0.4,\n",
    "    directTransferPerc = 0.1,\n",
    "    ChangePilotPerc=0.2\n",
    ")\n",
    "inputs= Input(\n",
    "    degree = 6,\n",
    "    minCoef = -9,\n",
    "    maxCoef = 9,\n",
    "    points = [Point(-2,1),Point(-1,-18),Point(0,-1),Point(1,10),Point(2,237),Point(3,2486),Point(-3,1202)]\n",
    ")\n",
    "curveFitter=CurveFitter(inputs)\n",
    "resultCurve=curveFitter.findCurve(consts)\n",
    "resultCurve"
   ]
  },
  {
   "cell_type": "markdown",
   "id": "b1bd314d",
   "metadata": {},
   "source": [
    "# Questions"
   ]
  },
  {
   "cell_type": "markdown",
   "id": "b731586e",
   "metadata": {},
   "source": [
    "1. *The problems caused by an extremely large or small population size:*  \n",
    "    - if we have extremely large population it takes too much time and memory although we have more diversity and cause to find optimal solution in fewer generation.\n",
    "    - if have have extremely small population obviously we have less diversity and maybe never reach to optimal solution.\n",
    " \n",
    "\n",
    "2. *The effects of a growing population on the algorithm:*  \n",
    "    - as mention in question 1 increase population size in each generation helps us because we have more diversity but it also consume more time and memory in each generation that is not good.\n",
    "    - another bad point is we try to remove bad chromosome over generation and trying to converge our population to optimal answer but growing population in each generation harm the convergence.\n",
    "3. *Compare effects of crossover and mutation.Can use only one of them?why?*  \n",
    "- CrossOver :\n",
    "    - Crossover is the process of combining genetic information from two parent chromosome to make better chromosomes\n",
    "    - Crossover helps maintain diversity and it allows the algorithm to converge faster toward promising solutions by exploiting the information shared among the population.\n",
    "- Mutation :\n",
    "    - Mutation is the process of changing gene(s) of one chromosome to make a better one.\n",
    "    - Mutation prevents premature convergence by ensuring that the search does not get stuck in local optima.\n",
    "- While it is theoretically possible to use only one of these operators, doing so may have significant drawbacks:\n",
    "   - 1.Using Only Crossover:  \n",
    "   The GA may suffer from a lack of genetic diversity, leading to premature convergence to suboptimal solutions and get stuck in local optima\n",
    "    - 2.Using Only Mutation:\n",
    "     It may take a longer time to reach good solutions and maybe cause algorithm has less diversity.\n",
    "4. *Approaches to solving the curve fitting problem faster:* \n",
    "    The parameters in problem are so effetive in solving speed.we can easily play with the and reach best values to solving problem faster.(change parameters in Const class) \n",
    "  \n",
    "5. *Solutions to stagnated chromosomes and getting stuck:*  \n",
    "    mutation is the solution for this problem as I mentioned in question 3 mutation helps us to escape local optima but if despite mutation still getting stuck , we can use `Multi-starting` means re-running algorithm with different initial population\n",
    "\n",
    "6. *Stopping the algorithm if a solution does not exist:*  \n",
    "      We can limit the number of generation and stop algorithm if reach that number and return chromosome with best fitness as\n",
    "      result.(as I did in my code)\n",
    "7. *As the polynomial degree increases, how does the time to find the coefficients change?* \n",
    "   When degree increases,out state space for chromosomes increase increases exponentially.Suppose that we don't have limit for number of generation,in worst case we have to traverse the entire state space to reach the answer so time to find the coefficients increases exponentially.\n",
    "\n",
    "\n",
    "8. *effects of increase or decrease the number of points on algorithm:*  \n",
    "    it depends on degree of equation :\n",
    "    - If number of points is less than the limit to represent a single polynomial, then the smaller the number of points, the sooner the algorithm will reach the solution.because more polynomials include those points.\n",
    "    - otherwise if number of points is reach the limit to represent a single polynomial, then the bigger the number of points, the sooner the algorithm will reach the solution.because we can calculate fitness more accurate for chromosmes.\n"
   ]
  }
 ],
 "metadata": {
  "kernelspec": {
   "display_name": "Python 3 (ipykernel)",
   "language": "python",
   "name": "python3"
  },
  "language_info": {
   "codemirror_mode": {
    "name": "ipython",
    "version": 3
   },
   "file_extension": ".py",
   "mimetype": "text/x-python",
   "name": "python",
   "nbconvert_exporter": "python",
   "pygments_lexer": "ipython3",
   "version": "3.11.0"
  }
 },
 "nbformat": 4,
 "nbformat_minor": 5
}
