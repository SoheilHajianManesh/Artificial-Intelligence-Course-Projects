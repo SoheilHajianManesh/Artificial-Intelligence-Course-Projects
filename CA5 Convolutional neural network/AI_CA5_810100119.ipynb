{
  "nbformat": 4,
  "nbformat_minor": 0,
  "metadata": {
    "colab": {
      "provenance": [],
      "gpuType": "T4",
      "authorship_tag": "ABX9TyOWxOkp9oTpE2qgI4QXfDSR",
      "include_colab_link": true
    },
    "kernelspec": {
      "name": "python3",
      "display_name": "Python 3"
    },
    "language_info": {
      "name": "python"
    },
    "accelerator": "GPU"
  },
  "cells": [
    {
      "cell_type": "markdown",
      "metadata": {
        "id": "view-in-github",
        "colab_type": "text"
      },
      "source": [
        "<a href=\"https://colab.research.google.com/github/SoheilHajianManesh/Artificial-Intelligence-Projects/blob/main/CA5%20Convolutional%20neural%20network/AI_CA5_810100119.ipynb\" target=\"_parent\"><img src=\"https://colab.research.google.com/assets/colab-badge.svg\" alt=\"Open In Colab\"/></a>"
      ]
    },
    {
      "cell_type": "code",
      "execution_count": 1,
      "metadata": {
        "colab": {
          "base_uri": "https://localhost:8080/"
        },
        "id": "sSbnBwQuZVXe",
        "outputId": "eb2817d1-4ebb-463c-c0db-039533e20874"
      },
      "outputs": [
        {
          "output_type": "stream",
          "name": "stdout",
          "text": [
            "Fri Jan  5 11:33:29 2024\n"
          ]
        }
      ],
      "source": [
        "import time\n",
        "print(time.ctime())"
      ]
    },
    {
      "cell_type": "code",
      "source": [],
      "metadata": {
        "id": "1zMaCFCzZi0j"
      },
      "execution_count": null,
      "outputs": []
    }
  ]
}